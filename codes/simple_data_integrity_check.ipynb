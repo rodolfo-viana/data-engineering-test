{
 "cells": [
  {
   "cell_type": "code",
   "execution_count": 1,
   "metadata": {},
   "outputs": [],
   "source": [
    "import os\n",
    "import pyarrow.parquet as pq\n",
    "import pandas as pd"
   ]
  },
  {
   "cell_type": "code",
   "execution_count": 2,
   "metadata": {},
   "outputs": [
    {
     "data": {
      "text/plain": [
       "2369227066.3615313"
      ]
     },
     "execution_count": 2,
     "metadata": {},
     "output_type": "execute_result"
    }
   ],
   "source": [
    "# Lendo os dados da tabela original\n",
    "visivel_xls = pd.read_excel(\n",
    "    \"../assets/vendas-combustiveis-m3.xls\",\n",
    "    sheet_name=\"Plan1\",\n",
    "    skiprows=52,\n",
    "    nrows=12,\n",
    "    usecols=\"C:W\",\n",
    ")\n",
    "\n",
    "# Comprimindo dados em uma única coluna\n",
    "visivel_xls = pd.Series(visivel_xls.values.ravel(\"F\"))\n",
    "\n",
    "# Resultado\n",
    "visivel_xls.sum()"
   ]
  },
  {
   "cell_type": "code",
   "execution_count": 3,
   "metadata": {},
   "outputs": [
    {
     "data": {
      "text/plain": [
       "2369227066.3615313"
      ]
     },
     "execution_count": 3,
     "metadata": {},
     "output_type": "execute_result"
    }
   ],
   "source": [
    "# Lendo os diretórios com parquet\n",
    "directories = []\n",
    "directories_1 = [\n",
    "    f.path for f in os.scandir(\"../data_output/processed/task1/\") if f.is_dir()\n",
    "]\n",
    "for i in directories_1:\n",
    "    pathing = [f.path for f in os.scandir(i) if f.is_dir()]\n",
    "    for g in pathing:\n",
    "        directories.append(g)\n",
    "parquet_files = []\n",
    "for directory in directories:\n",
    "    files = [\n",
    "        f.path\n",
    "        for f in os.scandir(directory)\n",
    "        if f.name.endswith(\".parquet\") and not f.name.startswith(\".\")\n",
    "    ]\n",
    "    parquet_files.extend(files)\n",
    "\n",
    "# Adicionando os arquivos parquet num único DataFrame.\n",
    "dataframes = []\n",
    "for file in parquet_files:\n",
    "    table = pq.read_table(file)\n",
    "    df = table.to_pandas()\n",
    "    dataframes.append(df)\n",
    "df = pd.concat(dataframes)\n",
    "\n",
    "# Resultado\n",
    "df[\"volume\"].sum()"
   ]
  }
 ],
 "metadata": {
  "kernelspec": {
   "display_name": ".env",
   "language": "python",
   "name": "python3"
  },
  "language_info": {
   "codemirror_mode": {
    "name": "ipython",
    "version": 3
   },
   "file_extension": ".py",
   "mimetype": "text/x-python",
   "name": "python",
   "nbconvert_exporter": "python",
   "pygments_lexer": "ipython3",
   "version": "3.10.9"
  }
 },
 "nbformat": 4,
 "nbformat_minor": 2
}
